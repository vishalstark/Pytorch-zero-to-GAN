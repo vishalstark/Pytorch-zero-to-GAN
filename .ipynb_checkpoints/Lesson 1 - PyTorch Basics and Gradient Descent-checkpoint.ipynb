{
 "cells": [
  {
   "cell_type": "code",
   "execution_count": 1,
   "id": "b827b8db",
   "metadata": {},
   "outputs": [],
   "source": [
    "import torch"
   ]
  },
  {
   "cell_type": "code",
   "execution_count": 7,
   "id": "9adeec1a",
   "metadata": {},
   "outputs": [
    {
     "data": {
      "text/plain": [
       "torch.Size([2, 2])"
      ]
     },
     "execution_count": 7,
     "metadata": {},
     "output_type": "execute_result"
    }
   ],
   "source": [
    "torch.tensor([[3.,4.],\n",
    "              [2,4]]).shape"
   ]
  },
  {
   "cell_type": "code",
   "execution_count": 9,
   "id": "56fffbcc",
   "metadata": {},
   "outputs": [],
   "source": [
    "x =  torch.tensor(3.)\n",
    "w = torch.tensor(4., requires_grad=True)\n",
    "b = torch.tensor(2., requires_grad=True)"
   ]
  },
  {
   "cell_type": "code",
   "execution_count": 10,
   "id": "6863fd58",
   "metadata": {},
   "outputs": [
    {
     "data": {
      "text/plain": [
       "tensor(14., grad_fn=<AddBackward0>)"
      ]
     },
     "execution_count": 10,
     "metadata": {},
     "output_type": "execute_result"
    }
   ],
   "source": [
    "y = w * x + b\n",
    "y"
   ]
  },
  {
   "cell_type": "code",
   "execution_count": 11,
   "id": "50f940d5",
   "metadata": {},
   "outputs": [],
   "source": [
    "y.backward()"
   ]
  },
  {
   "cell_type": "code",
   "execution_count": 15,
   "id": "85af14c8",
   "metadata": {},
   "outputs": [
    {
     "name": "stdout",
     "output_type": "stream",
     "text": [
      "tensor(3.)\n"
     ]
    }
   ],
   "source": [
    "print(w.grad)"
   ]
  },
  {
   "cell_type": "code",
   "execution_count": 2,
   "id": "55c6e9d0",
   "metadata": {},
   "outputs": [],
   "source": [
    "t1 = torch.full((3,2),10)"
   ]
  },
  {
   "cell_type": "code",
   "execution_count": 3,
   "id": "c0e3718f",
   "metadata": {},
   "outputs": [
    {
     "data": {
      "text/plain": [
       "tensor([[10, 10],\n",
       "        [10, 10],\n",
       "        [10, 10]])"
      ]
     },
     "execution_count": 3,
     "metadata": {},
     "output_type": "execute_result"
    }
   ],
   "source": [
    "t1"
   ]
  },
  {
   "cell_type": "code",
   "execution_count": 4,
   "id": "0bc96bae",
   "metadata": {},
   "outputs": [],
   "source": [
    "import numpy as np"
   ]
  },
  {
   "cell_type": "code",
   "execution_count": 8,
   "id": "406b1e04",
   "metadata": {},
   "outputs": [],
   "source": [
    "x = np.array([[1,2],[2,3.]])\n",
    "k = torch.from_numpy(x)"
   ]
  },
  {
   "cell_type": "code",
   "execution_count": 9,
   "id": "fc0cae6e",
   "metadata": {},
   "outputs": [
    {
     "data": {
      "text/plain": [
       "tensor([[1., 2.],\n",
       "        [2., 3.]], dtype=torch.float64)"
      ]
     },
     "execution_count": 9,
     "metadata": {},
     "output_type": "execute_result"
    }
   ],
   "source": [
    "k"
   ]
  },
  {
   "cell_type": "markdown",
   "id": "ec2bd389",
   "metadata": {},
   "source": [
    "## <span style='color:red;'> Gradient Descent and Linear Regression </span>"
   ]
  },
  {
   "cell_type": "code",
   "execution_count": 10,
   "id": "73f69368",
   "metadata": {},
   "outputs": [],
   "source": [
    "inputs = np.array([[73, 67, 43], \n",
    "                   [91, 88, 64], \n",
    "                   [87, 134, 58], \n",
    "                   [102, 43, 37], \n",
    "                   [69, 96, 70]], dtype='float32')"
   ]
  },
  {
   "cell_type": "code",
   "execution_count": 11,
   "id": "f2e77e4b",
   "metadata": {},
   "outputs": [],
   "source": [
    "targets = np.array([[56, 70], \n",
    "                    [81, 101], \n",
    "                    [119, 133], \n",
    "                    [22, 37], \n",
    "                    [103, 119]], dtype='float32')"
   ]
  },
  {
   "cell_type": "code",
   "execution_count": 12,
   "id": "e6d41444",
   "metadata": {},
   "outputs": [
    {
     "name": "stdout",
     "output_type": "stream",
     "text": [
      "tensor([[ 73.,  67.,  43.],\n",
      "        [ 91.,  88.,  64.],\n",
      "        [ 87., 134.,  58.],\n",
      "        [102.,  43.,  37.],\n",
      "        [ 69.,  96.,  70.]])\n",
      "tensor([[ 56.,  70.],\n",
      "        [ 81., 101.],\n",
      "        [119., 133.],\n",
      "        [ 22.,  37.],\n",
      "        [103., 119.]])\n"
     ]
    }
   ],
   "source": [
    "inputs = torch.from_numpy(inputs)\n",
    "targets = torch.from_numpy(targets)\n",
    "print(inputs)\n",
    "print(targets)"
   ]
  },
  {
   "cell_type": "code",
   "execution_count": 13,
   "id": "8665c372",
   "metadata": {},
   "outputs": [],
   "source": [
    "w = torch.randn(2,3,requires_grad=True)\n",
    "b = torch.randn(2, requires_grad=True)"
   ]
  },
  {
   "cell_type": "code",
   "execution_count": 26,
   "id": "c0062571",
   "metadata": {},
   "outputs": [
    {
     "data": {
      "text/plain": [
       "tensor([[-0.7630,  0.0659, -0.1013],\n",
       "        [ 0.6760, -0.1359,  0.5560]], requires_grad=True)"
      ]
     },
     "execution_count": 26,
     "metadata": {},
     "output_type": "execute_result"
    }
   ],
   "source": [
    "w"
   ]
  },
  {
   "cell_type": "code",
   "execution_count": 15,
   "id": "573df9aa",
   "metadata": {},
   "outputs": [],
   "source": [
    "# @ represents matrix multiplications and .t represents transpose\n",
    "def model(x):\n",
    "    return x @ w.t() + b"
   ]
  },
  {
   "cell_type": "code",
   "execution_count": 16,
   "id": "2724d7b6",
   "metadata": {},
   "outputs": [
    {
     "name": "stdout",
     "output_type": "stream",
     "text": [
      "tensor([[-54.8584,  64.7160],\n",
      "        [-69.3347,  85.7067],\n",
      "        [-62.6419,  73.4152],\n",
      "        [-77.9589,  84.2455],\n",
      "        [-52.6299,  73.0836]], grad_fn=<AddBackward0>)\n"
     ]
    }
   ],
   "source": [
    "preds = model(inputs)\n",
    "print(preds)"
   ]
  },
  {
   "cell_type": "code",
   "execution_count": 17,
   "id": "f587060e",
   "metadata": {},
   "outputs": [
    {
     "name": "stdout",
     "output_type": "stream",
     "text": [
      "tensor([[ 56.,  70.],\n",
      "        [ 81., 101.],\n",
      "        [119., 133.],\n",
      "        [ 22.,  37.],\n",
      "        [103., 119.]])\n"
     ]
    }
   ],
   "source": [
    "print(targets)"
   ]
  },
  {
   "cell_type": "code",
   "execution_count": 18,
   "id": "9d76be24",
   "metadata": {},
   "outputs": [],
   "source": [
    "def mse(t1,t2):\n",
    "    diff = t1-t2\n",
    "    return torch.sum(diff*diff)/diff.numel()"
   ]
  },
  {
   "cell_type": "code",
   "execution_count": 20,
   "id": "bdd8b565",
   "metadata": {},
   "outputs": [
    {
     "data": {
      "text/plain": [
       "tensor(11024.8975, grad_fn=<DivBackward0>)"
      ]
     },
     "execution_count": 20,
     "metadata": {},
     "output_type": "execute_result"
    }
   ],
   "source": [
    "loss = mse(preds,targets)\n",
    "loss"
   ]
  },
  {
   "cell_type": "code",
   "execution_count": 21,
   "id": "5f4d06c0",
   "metadata": {},
   "outputs": [],
   "source": [
    "#Computing gradients"
   ]
  },
  {
   "cell_type": "code",
   "execution_count": 23,
   "id": "c71e2b2a",
   "metadata": {},
   "outputs": [],
   "source": [
    "loss.backward()"
   ]
  },
  {
   "cell_type": "code",
   "execution_count": 24,
   "id": "a10e1d26",
   "metadata": {},
   "outputs": [
    {
     "name": "stdout",
     "output_type": "stream",
     "text": [
      "tensor([[-0.7630,  0.0659, -0.1013],\n",
      "        [ 0.6760, -0.1359,  0.5560]], requires_grad=True)\n"
     ]
    }
   ],
   "source": [
    "print(w)"
   ]
  },
  {
   "cell_type": "code",
   "execution_count": 25,
   "id": "7d759490",
   "metadata": {},
   "outputs": [
    {
     "name": "stdout",
     "output_type": "stream",
     "text": [
      "tensor([[-11702.0498, -12847.1377,  -7903.2285],\n",
      "        [ -1062.0981,  -2412.1238,  -1225.5934]])\n"
     ]
    }
   ],
   "source": [
    "print(w.grad)"
   ]
  },
  {
   "cell_type": "code",
   "execution_count": 28,
   "id": "f5b5f330",
   "metadata": {},
   "outputs": [
    {
     "name": "stdout",
     "output_type": "stream",
     "text": [
      "tensor([0.7766, 0.5640], requires_grad=True)\n",
      "tensor([-139.6848,  -15.7666])\n"
     ]
    }
   ],
   "source": [
    "print(b)\n",
    "print(b.grad)"
   ]
  },
  {
   "cell_type": "code",
   "execution_count": 29,
   "id": "617a0182",
   "metadata": {},
   "outputs": [],
   "source": [
    "#Why?\n",
    "# We are going to use them toadjust weights and biases to reduce the loss\n",
    "# algebra"
   ]
  },
  {
   "cell_type": "code",
   "execution_count": 35,
   "id": "0f735aa4",
   "metadata": {},
   "outputs": [],
   "source": [
    "with torch.no_grad():\n",
    "    w-=w.grad * 1e-5\n",
    "    b-=b.grad * 1e-5"
   ]
  },
  {
   "cell_type": "code",
   "execution_count": 31,
   "id": "c32263cd",
   "metadata": {},
   "outputs": [],
   "source": [
    "# We use torch.no_grad to indicate PyTrch that we shouldn'y track and calculate or modelify gradients while\n",
    "# updating the weights and biases"
   ]
  },
  {
   "cell_type": "code",
   "execution_count": 38,
   "id": "85a5efec",
   "metadata": {},
   "outputs": [
    {
     "name": "stdout",
     "output_type": "stream",
     "text": [
      "tensor(4899.5669, grad_fn=<DivBackward0>)\n"
     ]
    }
   ],
   "source": [
    "loss = mse(model(inputs),targets)\n",
    "print(loss)"
   ]
  },
  {
   "cell_type": "code",
   "execution_count": 39,
   "id": "17f9face",
   "metadata": {},
   "outputs": [
    {
     "data": {
      "text/plain": [
       "tensor([0., 0.])"
      ]
     },
     "execution_count": 39,
     "metadata": {},
     "output_type": "execute_result"
    }
   ],
   "source": [
    "w.grad.zero_()\n",
    "b.grad.zero_()"
   ]
  },
  {
   "cell_type": "code",
   "execution_count": 40,
   "id": "4dbf2b52",
   "metadata": {},
   "outputs": [
    {
     "name": "stdout",
     "output_type": "stream",
     "text": [
      "tensor([[0., 0., 0.],\n",
      "        [0., 0., 0.]])\n",
      "tensor([0., 0.])\n"
     ]
    }
   ],
   "source": [
    "print(w.grad)\n",
    "print(b.grad)"
   ]
  },
  {
   "cell_type": "markdown",
   "id": "1c99c77e",
   "metadata": {},
   "source": [
    "## <span style='color:red;'> Gradient Descent </span>"
   ]
  },
  {
   "cell_type": "markdown",
   "id": "40ef75d0",
   "metadata": {},
   "source": [
    "### <span style='color:red;'> Step 1: Generate Predictions </span>"
   ]
  },
  {
   "cell_type": "code",
   "execution_count": 44,
   "id": "d8a71271",
   "metadata": {},
   "outputs": [
    {
     "name": "stdout",
     "output_type": "stream",
     "text": [
      "tensor([[-13.7587,  70.5532],\n",
      "        [-15.3071,  93.4541],\n",
      "        [  1.3206,  83.1498],\n",
      "        [-37.1870,  89.3939],\n",
      "        [ -0.7473,  80.8967]], grad_fn=<AddBackward0>)\n"
     ]
    }
   ],
   "source": [
    "preds = model(inputs)\n",
    "print(preds)"
   ]
  },
  {
   "cell_type": "markdown",
   "id": "2db515a4",
   "metadata": {},
   "source": [
    "### <span style='color:red;'> Step 2: Calculate Loss </span>"
   ]
  },
  {
   "cell_type": "code",
   "execution_count": 45,
   "id": "d30092f0",
   "metadata": {},
   "outputs": [
    {
     "name": "stdout",
     "output_type": "stream",
     "text": [
      "tensor(4899.5669, grad_fn=<DivBackward0>)\n"
     ]
    }
   ],
   "source": [
    "loss = mse(preds, targets)\n",
    "print(loss)"
   ]
  },
  {
   "cell_type": "markdown",
   "id": "9f59adf1",
   "metadata": {},
   "source": [
    "### <span style='color:red;'> Step 3: Calculate the gradient </span>"
   ]
  },
  {
   "cell_type": "code",
   "execution_count": 46,
   "id": "ad609322",
   "metadata": {},
   "outputs": [
    {
     "name": "stdout",
     "output_type": "stream",
     "text": [
      "tensor([[-7458.0171, -8284.5381, -5088.1836],\n",
      "        [ -453.6426, -1742.3765,  -815.8239]])\n",
      "tensor([-89.3359,  -8.5105])\n"
     ]
    }
   ],
   "source": [
    "loss.backward()\n",
    "print(w.grad)\n",
    "print(b.grad)"
   ]
  },
  {
   "cell_type": "markdown",
   "id": "5bb1b025",
   "metadata": {},
   "source": [
    "### <span style='color:red;'> Step 4: Update Weights and reset the gradients </span>"
   ]
  },
  {
   "cell_type": "code",
   "execution_count": 50,
   "id": "bcddb949",
   "metadata": {},
   "outputs": [],
   "source": [
    "with torch.no_grad():\n",
    "    w-=w.grad*1e-5\n",
    "    b-=b.grad*1e-5\n",
    "    w.grad.zero_()\n",
    "    b.grad.zero_()"
   ]
  },
  {
   "cell_type": "markdown",
   "id": "ecf9c927",
   "metadata": {},
   "source": [
    "### <span style='color:red;'> Step 5: Look at the updated weights and biases and new loss  </span>"
   ]
  },
  {
   "cell_type": "code",
   "execution_count": 77,
   "id": "c4068f5a",
   "metadata": {},
   "outputs": [
    {
     "name": "stdout",
     "output_type": "stream",
     "text": [
      "tensor([[-0.2049,  0.5814,  0.2313],\n",
      "        [ 0.6358, -0.0160,  0.5449]], requires_grad=True)\n",
      "tensor([0.6943, 0.5016], requires_grad=True)\n",
      "tensor(1169.6094, grad_fn=<DivBackward0>)\n"
     ]
    }
   ],
   "source": [
    "print(w)\n",
    "print(b)\n",
    "print(mse(model(inputs),targets))"
   ]
  },
  {
   "cell_type": "markdown",
   "id": "ca71d377",
   "metadata": {},
   "source": [
    "## <span style='color:Blue;'> Combining All for 100 epochs </span>"
   ]
  },
  {
   "cell_type": "code",
   "execution_count": 75,
   "id": "da1a84bb",
   "metadata": {},
   "outputs": [],
   "source": [
    "for i in range(0,100):\n",
    "    preds = model(inputs)\n",
    "    loss = mse(preds,targets)\n",
    "    loss.backward()\n",
    "    with torch.no_grad():\n",
    "        w-=w*1e-5\n",
    "        b-=b*1e-5\n",
    "        w.grad.zero_()\n",
    "        b.grad.zero_()\n"
   ]
  },
  {
   "cell_type": "code",
   "execution_count": 76,
   "id": "b3a2add5",
   "metadata": {},
   "outputs": [
    {
     "data": {
      "text/plain": [
       "tensor(1169.6094, grad_fn=<DivBackward0>)"
      ]
     },
     "execution_count": 76,
     "metadata": {},
     "output_type": "execute_result"
    }
   ],
   "source": [
    "loss = mse(model(inputs),targets)\n",
    "loss"
   ]
  },
  {
   "cell_type": "markdown",
   "id": "b9a6d000",
   "metadata": {},
   "source": [
    "## <span style='color:Blue;'> Linear Regression </span>"
   ]
  },
  {
   "cell_type": "code",
   "execution_count": 80,
   "id": "b0f1a190",
   "metadata": {},
   "outputs": [],
   "source": [
    "import torch.nn as nn"
   ]
  },
  {
   "cell_type": "code",
   "execution_count": 78,
   "id": "e896f5e8",
   "metadata": {},
   "outputs": [],
   "source": [
    "# Input (temp, rainfall, humidity)\n",
    "inputs = np.array([[73, 67, 43], \n",
    "                   [91, 88, 64], \n",
    "                   [87, 134, 58], \n",
    "                   [102, 43, 37], \n",
    "                   [69, 96, 70], \n",
    "                   [74, 66, 43], \n",
    "                   [91, 87, 65], \n",
    "                   [88, 134, 59], \n",
    "                   [101, 44, 37], \n",
    "                   [68, 96, 71], \n",
    "                   [73, 66, 44], \n",
    "                   [92, 87, 64], \n",
    "                   [87, 135, 57], \n",
    "                   [103, 43, 36], \n",
    "                   [68, 97, 70]], \n",
    "                  dtype='float32')"
   ]
  },
  {
   "cell_type": "code",
   "execution_count": 79,
   "id": "6736d78d",
   "metadata": {},
   "outputs": [],
   "source": [
    "# Targets (apples, oranges)\n",
    "targets = np.array([[56, 70], \n",
    "                    [81, 101], \n",
    "                    [119, 133], \n",
    "                    [22, 37], \n",
    "                    [103, 119],\n",
    "                    [57, 69], \n",
    "                    [80, 102], \n",
    "                    [118, 132], \n",
    "                    [21, 38], \n",
    "                    [104, 118], \n",
    "                    [57, 69], \n",
    "                    [82, 100], \n",
    "                    [118, 134], \n",
    "                    [20, 38], \n",
    "                    [102, 120]], \n",
    "                   dtype='float32')"
   ]
  },
  {
   "cell_type": "code",
   "execution_count": 81,
   "id": "ba285a59",
   "metadata": {},
   "outputs": [],
   "source": [
    "inputs = torch.from_numpy(inputs)\n",
    "targets = torch.from_numpy(targets)"
   ]
  },
  {
   "cell_type": "markdown",
   "id": "61c3af68",
   "metadata": {},
   "source": [
    "## <span style='color:Blue;'> Dataset and Data Loader </span>"
   ]
  },
  {
   "cell_type": "code",
   "execution_count": 83,
   "id": "0f9f12e6",
   "metadata": {},
   "outputs": [],
   "source": [
    "from torch.utils.data import TensorDataset"
   ]
  },
  {
   "cell_type": "code",
   "execution_count": 86,
   "id": "b5b373d3",
   "metadata": {},
   "outputs": [
    {
     "data": {
      "text/plain": [
       "(tensor([[ 73.,  67.,  43.],\n",
       "         [ 91.,  88.,  64.],\n",
       "         [ 87., 134.,  58.]]),\n",
       " tensor([[ 56.,  70.],\n",
       "         [ 81., 101.],\n",
       "         [119., 133.]]))"
      ]
     },
     "execution_count": 86,
     "metadata": {},
     "output_type": "execute_result"
    }
   ],
   "source": [
    "train_ds = TensorDataset(inputs,targets)\n",
    "train_ds[0:3]"
   ]
  },
  {
   "cell_type": "code",
   "execution_count": 87,
   "id": "12e5fb98",
   "metadata": {},
   "outputs": [],
   "source": [
    "from torch.utils.data import DataLoader"
   ]
  },
  {
   "cell_type": "code",
   "execution_count": 88,
   "id": "53cb1d7c",
   "metadata": {},
   "outputs": [],
   "source": [
    "batch_size = 5\n",
    "train_dl = DataLoader(train_ds,batch_size,shuffle=True)"
   ]
  },
  {
   "cell_type": "code",
   "execution_count": 90,
   "id": "660e2d25",
   "metadata": {},
   "outputs": [
    {
     "name": "stdout",
     "output_type": "stream",
     "text": [
      "tensor([[ 73.,  66.,  44.],\n",
      "        [ 88., 134.,  59.],\n",
      "        [ 73.,  67.,  43.],\n",
      "        [ 92.,  87.,  64.],\n",
      "        [ 91.,  88.,  64.]])\n",
      "tensor([[ 57.,  69.],\n",
      "        [118., 132.],\n",
      "        [ 56.,  70.],\n",
      "        [ 82., 100.],\n",
      "        [ 81., 101.]])\n"
     ]
    }
   ],
   "source": [
    "for xb,yb in train_dl:\n",
    "    print(xb)\n",
    "    print(yb)\n",
    "    break"
   ]
  },
  {
   "cell_type": "code",
   "execution_count": 91,
   "id": "5b986863",
   "metadata": {},
   "outputs": [
    {
     "name": "stdout",
     "output_type": "stream",
     "text": [
      "Parameter containing:\n",
      "tensor([[ 0.5011,  0.0952, -0.4953],\n",
      "        [ 0.4602,  0.5239, -0.2693]], requires_grad=True)\n",
      "Parameter containing:\n",
      "tensor([-0.5747,  0.2738], requires_grad=True)\n"
     ]
    }
   ],
   "source": [
    "model = nn.Linear(3,2)\n",
    "print(model.weight)\n",
    "print(model.bias)"
   ]
  },
  {
   "cell_type": "code",
   "execution_count": 92,
   "id": "4581921f",
   "metadata": {},
   "outputs": [
    {
     "data": {
      "text/plain": [
       "[Parameter containing:\n",
       " tensor([[ 0.5011,  0.0952, -0.4953],\n",
       "         [ 0.4602,  0.5239, -0.2693]], requires_grad=True),\n",
       " Parameter containing:\n",
       " tensor([-0.5747,  0.2738], requires_grad=True)]"
      ]
     },
     "execution_count": 92,
     "metadata": {},
     "output_type": "execute_result"
    }
   ],
   "source": [
    "list(model.parameters())"
   ]
  },
  {
   "cell_type": "code",
   "execution_count": 93,
   "id": "7b009afd",
   "metadata": {},
   "outputs": [
    {
     "data": {
      "text/plain": [
       "tensor([[21.0843, 57.3935],\n",
       "        [21.7017, 71.0250],\n",
       "        [27.0477, 94.8979],\n",
       "        [36.3026, 59.7832],\n",
       "        [ 8.4679, 63.4751],\n",
       "        [21.4902, 57.3299],\n",
       "        [21.1112, 70.2319],\n",
       "        [27.0535, 95.0889],\n",
       "        [35.8967, 59.8469],\n",
       "        [ 7.4715, 62.7456],\n",
       "        [20.4938, 56.6004],\n",
       "        [22.1076, 70.9614],\n",
       "        [27.6382, 95.6910],\n",
       "        [37.2989, 60.5127],\n",
       "        [ 8.0620, 63.5387]], grad_fn=<AddmmBackward0>)"
      ]
     },
     "execution_count": 93,
     "metadata": {},
     "output_type": "execute_result"
    }
   ],
   "source": [
    "model(inputs)"
   ]
  },
  {
   "cell_type": "markdown",
   "id": "a6a321b8",
   "metadata": {},
   "source": [
    "## <span style='color:Blue;'> Loss Function </span>"
   ]
  },
  {
   "cell_type": "code",
   "execution_count": 94,
   "id": "6af462a1",
   "metadata": {},
   "outputs": [],
   "source": [
    "import torch.nn.functional as F"
   ]
  },
  {
   "cell_type": "code",
   "execution_count": 95,
   "id": "84116932",
   "metadata": {},
   "outputs": [
    {
     "name": "stdout",
     "output_type": "stream",
     "text": [
      "tensor(2846.2886, grad_fn=<MseLossBackward0>)\n"
     ]
    }
   ],
   "source": [
    "loss_fn = F.mse_loss\n",
    "loss = loss_fn(model(inputs),targets)\n",
    "print(loss)"
   ]
  },
  {
   "cell_type": "markdown",
   "id": "d291aa97",
   "metadata": {},
   "source": [
    "## <span style='color:Blue;'> Optimizer </span>"
   ]
  },
  {
   "cell_type": "code",
   "execution_count": 96,
   "id": "d597670d",
   "metadata": {},
   "outputs": [],
   "source": [
    "opt = torch.optim.SGD(model.parameters(),lr=1e-5)"
   ]
  },
  {
   "cell_type": "markdown",
   "id": "d35c90c8",
   "metadata": {},
   "source": [
    "## <span style='color:Blue;'> Model Training </span>"
   ]
  },
  {
   "cell_type": "code",
   "execution_count": 102,
   "id": "97e79c4c",
   "metadata": {},
   "outputs": [],
   "source": [
    "def fit(num_epochs,model,loss_fn,opt,train_dl):\n",
    "    for epoch in range(num_epochs):\n",
    "        \n",
    "        # train which batches of data\n",
    "        for xb,yb in train_dl:\n",
    "            pred = model(xb)\n",
    "            loss = loss_fn(pred,yb)\n",
    "            loss.backward()\n",
    "            #update parameters using gradients\n",
    "            opt.step()\n",
    "            opt.zero_grad()\n",
    "        if (epoch+1)%10 == 0:\n",
    "            print(f'Epoch [{epoch+1}/{num_epochs}], Loss: {loss.item():.4f}')"
   ]
  },
  {
   "cell_type": "code",
   "execution_count": 103,
   "id": "7f7d397d",
   "metadata": {
    "scrolled": true
   },
   "outputs": [
    {
     "name": "stdout",
     "output_type": "stream",
     "text": [
      "Epoch [10/100], Loss: 334.8664\n",
      "Epoch [20/100], Loss: 445.7016\n",
      "Epoch [30/100], Loss: 392.7287\n",
      "Epoch [40/100], Loss: 185.6640\n",
      "Epoch [50/100], Loss: 149.9113\n",
      "Epoch [60/100], Loss: 183.4355\n",
      "Epoch [70/100], Loss: 85.0648\n",
      "Epoch [80/100], Loss: 98.0049\n",
      "Epoch [90/100], Loss: 57.8164\n",
      "Epoch [100/100], Loss: 110.8402\n"
     ]
    }
   ],
   "source": [
    "fit(100,model,loss_fn,opt,train_dl)"
   ]
  },
  {
   "cell_type": "markdown",
   "id": "c163e4a8",
   "metadata": {},
   "source": [
    "## <span style='color:Blue;'> Difference Between Classical ProG and ML </span>\n",
    "\n",
    "Classical Programming:\n",
    "Rules + Data -> Answers\n",
    "\n",
    "Machine Learning :\n",
    "Data + Answers -> Rules"
   ]
  },
  {
   "cell_type": "markdown",
   "id": "14d9a515",
   "metadata": {},
   "source": [
    "## <span style='color:Green;'> ------------------------------------------------------------------------------------ </span>"
   ]
  },
  {
   "cell_type": "markdown",
   "id": "067d430d",
   "metadata": {},
   "source": [
    "## <span style='color:Blue;'> Assignment: Write about 5 pytorch functions </span>"
   ]
  },
  {
   "cell_type": "markdown",
   "id": "e8897f01",
   "metadata": {},
   "source": [
    "### <span style='color:Blue;'> Torch.linspace : used to create 1d equally spaced tensor between the values start and end </span>"
   ]
  },
  {
   "cell_type": "code",
   "execution_count": 113,
   "id": "6bff7a8a",
   "metadata": {},
   "outputs": [
    {
     "data": {
      "text/plain": [
       "tensor([ 1.0000,  1.0909,  1.1818,  1.2727,  1.3636,  1.4545,  1.5455,  1.6364,\n",
       "         1.7273,  1.8182,  1.9091,  2.0000,  2.0909,  2.1818,  2.2727,  2.3636,\n",
       "         2.4545,  2.5455,  2.6364,  2.7273,  2.8182,  2.9091,  3.0000,  3.0909,\n",
       "         3.1818,  3.2727,  3.3636,  3.4545,  3.5455,  3.6364,  3.7273,  3.8182,\n",
       "         3.9091,  4.0000,  4.0909,  4.1818,  4.2727,  4.3636,  4.4545,  4.5455,\n",
       "         4.6364,  4.7273,  4.8182,  4.9091,  5.0000,  5.0909,  5.1818,  5.2727,\n",
       "         5.3636,  5.4545,  5.5455,  5.6364,  5.7273,  5.8182,  5.9091,  6.0000,\n",
       "         6.0909,  6.1818,  6.2727,  6.3636,  6.4545,  6.5455,  6.6364,  6.7273,\n",
       "         6.8182,  6.9091,  7.0000,  7.0909,  7.1818,  7.2727,  7.3636,  7.4545,\n",
       "         7.5455,  7.6364,  7.7273,  7.8182,  7.9091,  8.0000,  8.0909,  8.1818,\n",
       "         8.2727,  8.3636,  8.4545,  8.5455,  8.6364,  8.7273,  8.8182,  8.9091,\n",
       "         9.0000,  9.0909,  9.1818,  9.2727,  9.3636,  9.4545,  9.5455,  9.6364,\n",
       "         9.7273,  9.8182,  9.9091, 10.0000])"
      ]
     },
     "execution_count": 113,
     "metadata": {},
     "output_type": "execute_result"
    }
   ],
   "source": [
    "torch.linspace(1,10,100)"
   ]
  },
  {
   "cell_type": "markdown",
   "id": "192e4c60",
   "metadata": {},
   "source": [
    "### <span style='color:Blue;'> torch.eye : creates 2d tensor with diagnols as 1 and others as 0</span>"
   ]
  },
  {
   "cell_type": "code",
   "execution_count": 117,
   "id": "235f650a",
   "metadata": {},
   "outputs": [
    {
     "data": {
      "text/plain": [
       "tensor([[1., 0., 0., 0., 0.],\n",
       "        [0., 1., 0., 0., 0.],\n",
       "        [0., 0., 1., 0., 0.],\n",
       "        [0., 0., 0., 1., 0.],\n",
       "        [0., 0., 0., 0., 1.]])"
      ]
     },
     "execution_count": 117,
     "metadata": {},
     "output_type": "execute_result"
    }
   ],
   "source": [
    "torch.eye(5,5)"
   ]
  },
  {
   "cell_type": "code",
   "execution_count": 119,
   "id": "62868b0c",
   "metadata": {},
   "outputs": [
    {
     "data": {
      "text/plain": [
       "tensor([[1., 0.],\n",
       "        [0., 1.],\n",
       "        [0., 0.]])"
      ]
     },
     "execution_count": 119,
     "metadata": {},
     "output_type": "execute_result"
    }
   ],
   "source": [
    "#In case of non symmetrical dimesnions\n",
    "torch.eye(3,2)"
   ]
  },
  {
   "cell_type": "markdown",
   "id": "2d167dc0",
   "metadata": {},
   "source": [
    "### <span style='color:Blue;'> torch.unbind: removes a tensor dimension along a given dimension </span>"
   ]
  },
  {
   "cell_type": "code",
   "execution_count": 124,
   "id": "3860d99b",
   "metadata": {},
   "outputs": [
    {
     "data": {
      "text/plain": [
       "(tensor([10, 20, 30, 40, 50]), tensor([1, 2, 3, 4, 5]))"
      ]
     },
     "execution_count": 124,
     "metadata": {},
     "output_type": "execute_result"
    }
   ],
   "source": [
    "t = torch.tensor([[10,20,30,40,50],[1,2,3,4,5]])\n",
    "torch.unbind(t)"
   ]
  },
  {
   "cell_type": "code",
   "execution_count": 125,
   "id": "4d147cf7",
   "metadata": {},
   "outputs": [
    {
     "data": {
      "text/plain": [
       "(tensor([10,  1]),\n",
       " tensor([20,  2]),\n",
       " tensor([30,  3]),\n",
       " tensor([40,  4]),\n",
       " tensor([50,  5]))"
      ]
     },
     "execution_count": 125,
     "metadata": {},
     "output_type": "execute_result"
    }
   ],
   "source": [
    "t = torch.tensor([[10,20,30,40,50],[1,2,3,4,5]])\n",
    "torch.unbind(t,axis=1)"
   ]
  },
  {
   "cell_type": "markdown",
   "id": "dfed66d6",
   "metadata": {},
   "source": [
    "### <span style='color:Blue;'> torch.get_num_threads() : Returns the number of threads used for parallelizing CPU operations </span>"
   ]
  },
  {
   "cell_type": "code",
   "execution_count": 127,
   "id": "4b404a05",
   "metadata": {},
   "outputs": [
    {
     "data": {
      "text/plain": [
       "8"
      ]
     },
     "execution_count": 127,
     "metadata": {},
     "output_type": "execute_result"
    }
   ],
   "source": [
    "torch.get_num_threads()"
   ]
  },
  {
   "cell_type": "markdown",
   "id": "7a079d6d",
   "metadata": {},
   "source": [
    "### <span style='color:Blue;'> torch.expand(*size) : set qty of elements per dimension</span>"
   ]
  },
  {
   "cell_type": "code",
   "execution_count": 135,
   "id": "bae68cfd",
   "metadata": {},
   "outputs": [],
   "source": [
    "x = torch.tensor([[1],[2],[3]])"
   ]
  },
  {
   "cell_type": "code",
   "execution_count": 136,
   "id": "89e28b29",
   "metadata": {},
   "outputs": [
    {
     "name": "stdout",
     "output_type": "stream",
     "text": [
      "torch.Size([3, 1])\n"
     ]
    }
   ],
   "source": [
    "print(x.size())"
   ]
  },
  {
   "cell_type": "code",
   "execution_count": 142,
   "id": "84f56fe2",
   "metadata": {},
   "outputs": [
    {
     "name": "stdout",
     "output_type": "stream",
     "text": [
      "tensor([[1, 1, 1, 1, 1],\n",
      "        [2, 2, 2, 2, 2],\n",
      "        [3, 3, 3, 3, 3]])\n"
     ]
    }
   ],
   "source": [
    "print(x.expand(3,5))"
   ]
  },
  {
   "cell_type": "code",
   "execution_count": 145,
   "id": "cfd6bb99",
   "metadata": {},
   "outputs": [
    {
     "name": "stdout",
     "output_type": "stream",
     "text": [
      "tensor([[1, 1, 1],\n",
      "        [2, 2, 2],\n",
      "        [3, 3, 3]])\n"
     ]
    }
   ],
   "source": [
    "#-1 means not cahnging the dimension of its size\n",
    "print(x.expand(-1,3))"
   ]
  },
  {
   "cell_type": "code",
   "execution_count": 151,
   "id": "1775ce50",
   "metadata": {},
   "outputs": [
    {
     "data": {
      "text/plain": [
       "torch.Size([1])"
      ]
     },
     "metadata": {},
     "output_type": "display_data"
    },
    {
     "data": {
      "text/plain": [
       "torch.Size([3])"
      ]
     },
     "metadata": {},
     "output_type": "display_data"
    },
    {
     "data": {
      "text/plain": [
       "torch.Size([3, 1])"
      ]
     },
     "metadata": {},
     "output_type": "display_data"
    }
   ],
   "source": [
    "a = torch.tensor([1])\n",
    "display(a.size())\n",
    "b = torch.tensor([1,2,3])\n",
    "display(b.size())\n",
    "c = torch.tensor([[1],[2],[3]])\n",
    "display(c.size())"
   ]
  },
  {
   "cell_type": "markdown",
   "id": "866ee7da",
   "metadata": {},
   "source": [
    "### <span style='color:Blue;'> torch.numel() : Returns the number of elements in input tensor </span>"
   ]
  },
  {
   "cell_type": "code",
   "execution_count": 156,
   "id": "e05e8c66",
   "metadata": {},
   "outputs": [
    {
     "data": {
      "text/plain": [
       "torch.Size([3, 1])"
      ]
     },
     "metadata": {},
     "output_type": "display_data"
    },
    {
     "data": {
      "text/plain": [
       "3"
      ]
     },
     "metadata": {},
     "output_type": "display_data"
    },
    {
     "data": {
      "text/plain": [
       "torch.Size([3, 4])"
      ]
     },
     "metadata": {},
     "output_type": "display_data"
    },
    {
     "data": {
      "text/plain": [
       "12"
      ]
     },
     "metadata": {},
     "output_type": "display_data"
    }
   ],
   "source": [
    "t = torch.tensor([[1],[2],[3]])\n",
    "display(t.size())\n",
    "display(t.numel())\n",
    "t = t.expand(-1,4)\n",
    "display(t.size())\n",
    "display(t.numel())"
   ]
  },
  {
   "cell_type": "code",
   "execution_count": null,
   "id": "67c659ae",
   "metadata": {},
   "outputs": [],
   "source": []
  }
 ],
 "metadata": {
  "kernelspec": {
   "display_name": "NLP Project Amazon Reveiws",
   "language": "python",
   "name": "nlp_project_amazon_reviews"
  },
  "language_info": {
   "codemirror_mode": {
    "name": "ipython",
    "version": 3
   },
   "file_extension": ".py",
   "mimetype": "text/x-python",
   "name": "python",
   "nbconvert_exporter": "python",
   "pygments_lexer": "ipython3",
   "version": "3.8.8"
  }
 },
 "nbformat": 4,
 "nbformat_minor": 5
}
